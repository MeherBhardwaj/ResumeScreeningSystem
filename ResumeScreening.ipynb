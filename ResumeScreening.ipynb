{
 "cells": [
  {
   "cell_type": "code",
   "execution_count": 310,
   "id": "d50f374d",
   "metadata": {},
   "outputs": [],
   "source": [
    "import numpy as np\n",
    "import pandas as pd\n",
    "import matplotlib.pyplot as plt\n",
    "import warnings\n",
    "warnings.filterwarnings('ignore')\n",
    "from sklearn.multiclass import OneVsRestClassifier\n",
    "from sklearn import metrics\n",
    "from sklearn.metrics import accuracy_score\n",
    "from pandas.plotting import scatter_matrix\n",
    "from sklearn.neighbors import KNeighborsClassifier\n",
    "from sklearn import metrics"
   ]
  },
  {
   "cell_type": "code",
   "execution_count": 311,
   "id": "58e73a4b",
   "metadata": {},
   "outputs": [],
   "source": [
    "resumeDataSet = pd.read_csv('UpdatedResumeDataSet.csv',encoding='utf-8')"
   ]
  },
  {
   "cell_type": "code",
   "execution_count": 312,
   "id": "d43bdbc0",
   "metadata": {},
   "outputs": [],
   "source": [
    "resumeDataSet.drop_duplicates(subset=\"Resume\", keep='first', inplace=True)"
   ]
  },
  {
   "cell_type": "code",
   "execution_count": 313,
   "id": "5ebf2e0b",
   "metadata": {},
   "outputs": [],
   "source": [
    "resumeDataSet['cleaned_resume'] = ''"
   ]
  },
  {
   "cell_type": "code",
   "execution_count": 314,
   "id": "6725d008",
   "metadata": {},
   "outputs": [
    {
     "data": {
      "text/html": [
       "<div>\n",
       "<style scoped>\n",
       "    .dataframe tbody tr th:only-of-type {\n",
       "        vertical-align: middle;\n",
       "    }\n",
       "\n",
       "    .dataframe tbody tr th {\n",
       "        vertical-align: top;\n",
       "    }\n",
       "\n",
       "    .dataframe thead th {\n",
       "        text-align: right;\n",
       "    }\n",
       "</style>\n",
       "<table border=\"1\" class=\"dataframe\">\n",
       "  <thead>\n",
       "    <tr style=\"text-align: right;\">\n",
       "      <th></th>\n",
       "      <th>Category</th>\n",
       "      <th>Resume</th>\n",
       "      <th>cleaned_resume</th>\n",
       "    </tr>\n",
       "  </thead>\n",
       "  <tbody>\n",
       "    <tr>\n",
       "      <th>0</th>\n",
       "      <td>Data Science</td>\n",
       "      <td>Skills * Programming Languages: Python (pandas...</td>\n",
       "      <td></td>\n",
       "    </tr>\n",
       "    <tr>\n",
       "      <th>1</th>\n",
       "      <td>Data Science</td>\n",
       "      <td>Education Details \\r\\nMay 2013 to May 2017 B.E...</td>\n",
       "      <td></td>\n",
       "    </tr>\n",
       "    <tr>\n",
       "      <th>2</th>\n",
       "      <td>Data Science</td>\n",
       "      <td>Areas of Interest Deep Learning, Control Syste...</td>\n",
       "      <td></td>\n",
       "    </tr>\n",
       "    <tr>\n",
       "      <th>3</th>\n",
       "      <td>Data Science</td>\n",
       "      <td>Skills â¢ R â¢ Python â¢ SAP HANA â¢ Table...</td>\n",
       "      <td></td>\n",
       "    </tr>\n",
       "    <tr>\n",
       "      <th>4</th>\n",
       "      <td>Data Science</td>\n",
       "      <td>Education Details \\r\\n MCA   YMCAUST,  Faridab...</td>\n",
       "      <td></td>\n",
       "    </tr>\n",
       "  </tbody>\n",
       "</table>\n",
       "</div>"
      ],
      "text/plain": [
       "       Category                                             Resume  \\\n",
       "0  Data Science  Skills * Programming Languages: Python (pandas...   \n",
       "1  Data Science  Education Details \\r\\nMay 2013 to May 2017 B.E...   \n",
       "2  Data Science  Areas of Interest Deep Learning, Control Syste...   \n",
       "3  Data Science  Skills â¢ R â¢ Python â¢ SAP HANA â¢ Table...   \n",
       "4  Data Science  Education Details \\r\\n MCA   YMCAUST,  Faridab...   \n",
       "\n",
       "  cleaned_resume  \n",
       "0                 \n",
       "1                 \n",
       "2                 \n",
       "3                 \n",
       "4                 "
      ]
     },
     "execution_count": 314,
     "metadata": {},
     "output_type": "execute_result"
    }
   ],
   "source": [
    "resumeDataSet.head()"
   ]
  },
  {
   "cell_type": "code",
   "execution_count": 316,
   "id": "fbf305e3",
   "metadata": {},
   "outputs": [
    {
     "name": "stdout",
     "output_type": "stream",
     "text": [
      "Displaying the distinct categories of resume:\n",
      "\n",
      " \n",
      "['Data Science' 'HR' 'Advocate' 'Arts' 'Web Designing'\n",
      " 'Mechanical Engineer' 'Sales' 'Health and fitness' 'Civil Engineer'\n",
      " 'Java Developer' 'Business Analyst' 'SAP Developer' 'Automation Testing'\n",
      " 'Electrical Engineering' 'Operations Manager' 'Python Developer'\n",
      " 'DevOps Engineer' 'Network Security Engineer' 'PMO' 'Database' 'Hadoop'\n",
      " 'ETL Developer' 'DotNet Developer' 'Blockchain' 'Testing']\n"
     ]
    }
   ],
   "source": [
    "print (\"Displaying the distinct categories of resume:\\n\\n \")\n",
    "print (resumeDataSet['Category'].unique())"
   ]
  },
  {
   "cell_type": "code",
   "execution_count": 318,
   "id": "29f77868",
   "metadata": {},
   "outputs": [
    {
     "data": {
      "image/png": "[encoded data removed]",
      "text/plain": [
       "<Figure size 1440x360 with 1 Axes>"
      ]
     },
     "metadata": {
      "needs_background": "light"
     },
     "output_type": "display_data"
    }
   ],
   "source": [
    "import seaborn as sns\n",
    "plt.figure(figsize=(20,5))\n",
    "plt.xticks(rotation=90)\n",
    "ax=sns.countplot(x=\"Category\", data=resumeDataSet)\n",
    "for p in ax.patches:\n",
    "    ax.annotate(str(p.get_height()), (p.get_x() * 1.01 , p.get_height() * 1.01))\n",
    "plt.grid()"
   ]
  },
  {
   "cell_type": "code",
   "execution_count": 319,
   "id": "115c4224",
   "metadata": {},
   "outputs": [
    {
     "data": {
      "image/png": "[encoded data removed]",
      "text/plain": [
       "<Figure size 1584x1584 with 1 Axes>"
      ]
     },
     "metadata": {},
     "output_type": "display_data"
    }
   ],
   "source": [
    "from matplotlib.gridspec import GridSpec\n",
    "targetCounts = resumeDataSet['Category'].value_counts()\n",
    "targetLabels  = resumeDataSet['Category'].unique()\n",
    "# Make square figures and axes\n",
    "plt.figure(1, figsize=(22,22))\n",
    "the_grid = GridSpec(2, 2)\n",
    "\n",
    "\n",
    "cmap = plt.get_cmap('coolwarm')\n",
    "plt.subplot(the_grid[0, 1], aspect=1, title='CATEGORY DISTRIBUTION')\n",
    "\n",
    "source_pie = plt.pie(targetCounts, labels=targetLabels, autopct='%1.1f%%', shadow=True)\n",
    "plt.show()"
   ]
  },
  {
   "cell_type": "code",
   "execution_count": 320,
   "id": "0a613cdf",
   "metadata": {},
   "outputs": [],
   "source": [
    "import re\n",
    "def cleanResume(resumeText):\n",
    "    resumeText = re.sub('http\\S+\\s*', ' ', resumeText)  # remove URLs\n",
    "    resumeText = re.sub('RT|cc', ' ', resumeText)  # remove RT and cc\n",
    "    resumeText = re.sub('#\\S+', '', resumeText)  # remove hashtags\n",
    "    resumeText = re.sub('@\\S+', '  ', resumeText)  # remove mentions\n",
    "    resumeText = re.sub('[%s]' % re.escape(\"\"\"!\"#$%&'()*+,-./:;<=>?@[\\]^_`{|}~\"\"\"), ' ', resumeText)  # remove punctuations\n",
    "    resumeText = re.sub(r'[^\\x00-\\x7f]',r' ', resumeText) \n",
    "    resumeText = re.sub('\\s+', ' ', resumeText)  # remove extra whitespace\n",
    "    return resumeText\n",
    "    \n",
    "resumeDataSet['cleaned_resume'] = resumeDataSet.Resume.apply(lambda x: cleanResume(x))"
   ]
  },
  {
   "cell_type": "code",
   "execution_count": 321,
   "id": "1f3407ed",
   "metadata": {},
   "outputs": [
    {
     "data": {
      "text/html": [
       "<div>\n",
       "<style scoped>\n",
       "    .dataframe tbody tr th:only-of-type {\n",
       "        vertical-align: middle;\n",
       "    }\n",
       "\n",
       "    .dataframe tbody tr th {\n",
       "        vertical-align: top;\n",
       "    }\n",
       "\n",
       "    .dataframe thead th {\n",
       "        text-align: right;\n",
       "    }\n",
       "</style>\n",
       "<table border=\"1\" class=\"dataframe\">\n",
       "  <thead>\n",
       "    <tr style=\"text-align: right;\">\n",
       "      <th></th>\n",
       "      <th>Category</th>\n",
       "      <th>Resume</th>\n",
       "      <th>cleaned_resume</th>\n",
       "    </tr>\n",
       "  </thead>\n",
       "  <tbody>\n",
       "    <tr>\n",
       "      <th>0</th>\n",
       "      <td>Data Science</td>\n",
       "      <td>Skills * Programming Languages: Python (pandas...</td>\n",
       "      <td>Skills Programming Languages Python pandas num...</td>\n",
       "    </tr>\n",
       "    <tr>\n",
       "      <th>1</th>\n",
       "      <td>Data Science</td>\n",
       "      <td>Education Details \\r\\nMay 2013 to May 2017 B.E...</td>\n",
       "      <td>Education Details May 2013 to May 2017 B E UIT...</td>\n",
       "    </tr>\n",
       "    <tr>\n",
       "      <th>2</th>\n",
       "      <td>Data Science</td>\n",
       "      <td>Areas of Interest Deep Learning, Control Syste...</td>\n",
       "      <td>Areas of Interest Deep Learning Control System...</td>\n",
       "    </tr>\n",
       "    <tr>\n",
       "      <th>3</th>\n",
       "      <td>Data Science</td>\n",
       "      <td>Skills â¢ R â¢ Python â¢ SAP HANA â¢ Table...</td>\n",
       "      <td>Skills R Python SAP HANA Tableau SAP HANA SQL ...</td>\n",
       "    </tr>\n",
       "    <tr>\n",
       "      <th>4</th>\n",
       "      <td>Data Science</td>\n",
       "      <td>Education Details \\r\\n MCA   YMCAUST,  Faridab...</td>\n",
       "      <td>Education Details MCA YMCAUST Faridabad Haryan...</td>\n",
       "    </tr>\n",
       "  </tbody>\n",
       "</table>\n",
       "</div>"
      ],
      "text/plain": [
       "       Category                                             Resume  \\\n",
       "0  Data Science  Skills * Programming Languages: Python (pandas...   \n",
       "1  Data Science  Education Details \\r\\nMay 2013 to May 2017 B.E...   \n",
       "2  Data Science  Areas of Interest Deep Learning, Control Syste...   \n",
       "3  Data Science  Skills â¢ R â¢ Python â¢ SAP HANA â¢ Table...   \n",
       "4  Data Science  Education Details \\r\\n MCA   YMCAUST,  Faridab...   \n",
       "\n",
       "                                      cleaned_resume  \n",
       "0  Skills Programming Languages Python pandas num...  \n",
       "1  Education Details May 2013 to May 2017 B E UIT...  \n",
       "2  Areas of Interest Deep Learning Control System...  \n",
       "3  Skills R Python SAP HANA Tableau SAP HANA SQL ...  \n",
       "4  Education Details MCA YMCAUST Faridabad Haryan...  "
      ]
     },
     "execution_count": 321,
     "metadata": {},
     "output_type": "execute_result"
    }
   ],
   "source": [
    "resumeDataSet.head()"
   ]
  },
  {
   "cell_type": "code",
   "execution_count": 322,
   "id": "2b0de187",
   "metadata": {},
   "outputs": [],
   "source": [
    "resumeDataSet_d=resumeDataSet.copy()"
   ]
  },
  {
   "cell_type": "code",
   "execution_count": 323,
   "id": "64d0ded0",
   "metadata": {},
   "outputs": [],
   "source": [
    "import nltk"
   ]
  },
  {
   "cell_type": "code",
   "execution_count": 324,
   "id": "aaff7053",
   "metadata": {},
   "outputs": [
    {
     "name": "stderr",
     "output_type": "stream",
     "text": [
      "[nltk_data] Downloading package stopwords to C:\\Users\\Meher\n",
      "[nltk_data]     Bhardwaj\\AppData\\Roaming\\nltk_data...\n",
      "[nltk_data]   Package stopwords is already up-to-date!\n"
     ]
    },
    {
     "data": {
      "text/plain": [
       "True"
      ]
     },
     "execution_count": 324,
     "metadata": {},
     "output_type": "execute_result"
    }
   ],
   "source": [
    "nltk.download('stopwords')"
   ]
  },
  {
   "cell_type": "code",
   "execution_count": 325,
   "id": "c454261d",
   "metadata": {},
   "outputs": [
    {
     "name": "stderr",
     "output_type": "stream",
     "text": [
      "[nltk_data] Downloading package punkt to C:\\Users\\Meher\n",
      "[nltk_data]     Bhardwaj\\AppData\\Roaming\\nltk_data...\n",
      "[nltk_data]   Package punkt is already up-to-date!\n"
     ]
    },
    {
     "data": {
      "text/plain": [
       "True"
      ]
     },
     "execution_count": 325,
     "metadata": {},
     "output_type": "execute_result"
    }
   ],
   "source": [
    "nltk.download('punkt')"
   ]
  },
  {
   "cell_type": "code",
   "execution_count": 326,
   "id": "d29796f9",
   "metadata": {},
   "outputs": [
    {
     "name": "stdout",
     "output_type": "stream",
     "text": [
      "[('Exprience', 616), ('company', 520), ('months', 515), ('Details', 510), ('description', 458), ('1', 348), ('Project', 299), ('data', 242), ('project', 231), ('6', 227), ('Maharashtra', 217), ('year', 215), ('SQL', 215), ('team', 207), ('Less', 199), ('using', 197), ('January', 189), ('Skill', 175), ('Management', 167), ('Ltd', 159), ('Pune', 158), ('C', 151), ('Education', 144), ('management', 143), ('Data', 140), ('Developer', 137), ('Engineering', 134), ('database', 133), ('Java', 130), ('Database', 127), ('monthsCompany', 125), ('System', 123), ('University', 123), ('Server', 123), ('Pvt', 122), ('India', 120), ('like', 118), ('The', 117), ('Responsibilities', 117), ('various', 116), ('A', 113), ('business', 113), ('2', 113), ('development', 112), ('reports', 111), ('application', 110), ('issues', 106), ('system', 106), ('Mumbai', 106), ('Test', 105)]\n"
     ]
    }
   ],
   "source": [
    "\n",
    "from nltk.corpus import stopwords\n",
    "import string\n",
    "from wordcloud import WordCloud\n",
    "\n",
    "oneSetOfStopWords = set(stopwords.words('english')+['``',\"''\"])\n",
    "totalWords =[]\n",
    "Sentences = resumeDataSet['Resume'].values\n",
    "cleanedSentences = \"\"\n",
    "for records in Sentences:\n",
    "    cleanedText = cleanResume(records)\n",
    "    cleanedSentences += cleanedText\n",
    "    requiredWords = nltk.word_tokenize(cleanedText)\n",
    "    for word in requiredWords:\n",
    "        if word not in oneSetOfStopWords and word not in string.punctuation:\n",
    "            totalWords.append(word)\n",
    "    \n",
    "wordfreqdist = nltk.FreqDist(totalWords)\n",
    "mostcommon = wordfreqdist.most_common(50)\n",
    "print(mostcommon)"
   ]
  },
  {
   "cell_type": "code",
   "execution_count": 328,
   "id": "dd8998a9",
   "metadata": {},
   "outputs": [],
   "source": [
    "from sklearn.preprocessing import LabelEncoder\n",
    "\n",
    "var_mod = ['Category']\n",
    "le = LabelEncoder()\n",
    "for i in var_mod:\n",
    "    resumeDataSet[i] = le.fit_transform(resumeDataSet[i])"
   ]
  },
  {
   "cell_type": "code",
   "execution_count": 329,
   "id": "ae017add",
   "metadata": {},
   "outputs": [
    {
     "data": {
      "text/html": [
       "<div>\n",
       "<style scoped>\n",
       "    .dataframe tbody tr th:only-of-type {\n",
       "        vertical-align: middle;\n",
       "    }\n",
       "\n",
       "    .dataframe tbody tr th {\n",
       "        vertical-align: top;\n",
       "    }\n",
       "\n",
       "    .dataframe thead th {\n",
       "        text-align: right;\n",
       "    }\n",
       "</style>\n",
       "<table border=\"1\" class=\"dataframe\">\n",
       "  <thead>\n",
       "    <tr style=\"text-align: right;\">\n",
       "      <th></th>\n",
       "      <th>Category</th>\n",
       "      <th>Resume</th>\n",
       "      <th>cleaned_resume</th>\n",
       "    </tr>\n",
       "  </thead>\n",
       "  <tbody>\n",
       "    <tr>\n",
       "      <th>0</th>\n",
       "      <td>6</td>\n",
       "      <td>Skills * Programming Languages: Python (pandas...</td>\n",
       "      <td>Skills Programming Languages Python pandas num...</td>\n",
       "    </tr>\n",
       "    <tr>\n",
       "      <th>1</th>\n",
       "      <td>6</td>\n",
       "      <td>Education Details \\r\\nMay 2013 to May 2017 B.E...</td>\n",
       "      <td>Education Details May 2013 to May 2017 B E UIT...</td>\n",
       "    </tr>\n",
       "    <tr>\n",
       "      <th>2</th>\n",
       "      <td>6</td>\n",
       "      <td>Areas of Interest Deep Learning, Control Syste...</td>\n",
       "      <td>Areas of Interest Deep Learning Control System...</td>\n",
       "    </tr>\n",
       "    <tr>\n",
       "      <th>3</th>\n",
       "      <td>6</td>\n",
       "      <td>Skills â¢ R â¢ Python â¢ SAP HANA â¢ Table...</td>\n",
       "      <td>Skills R Python SAP HANA Tableau SAP HANA SQL ...</td>\n",
       "    </tr>\n",
       "    <tr>\n",
       "      <th>4</th>\n",
       "      <td>6</td>\n",
       "      <td>Education Details \\r\\n MCA   YMCAUST,  Faridab...</td>\n",
       "      <td>Education Details MCA YMCAUST Faridabad Haryan...</td>\n",
       "    </tr>\n",
       "    <tr>\n",
       "      <th>5</th>\n",
       "      <td>6</td>\n",
       "      <td>SKILLS C Basics, IOT, Python, MATLAB, Data Sci...</td>\n",
       "      <td>SKILLS C Basics IOT Python MATLAB Data Science...</td>\n",
       "    </tr>\n",
       "    <tr>\n",
       "      <th>6</th>\n",
       "      <td>6</td>\n",
       "      <td>Skills â¢ Python â¢ Tableau â¢ Data Visuali...</td>\n",
       "      <td>Skills Python Tableau Data Visualization R Stu...</td>\n",
       "    </tr>\n",
       "  </tbody>\n",
       "</table>\n",
       "</div>"
      ],
      "text/plain": [
       "   Category                                             Resume  \\\n",
       "0         6  Skills * Programming Languages: Python (pandas...   \n",
       "1         6  Education Details \\r\\nMay 2013 to May 2017 B.E...   \n",
       "2         6  Areas of Interest Deep Learning, Control Syste...   \n",
       "3         6  Skills â¢ R â¢ Python â¢ SAP HANA â¢ Table...   \n",
       "4         6  Education Details \\r\\n MCA   YMCAUST,  Faridab...   \n",
       "5         6  SKILLS C Basics, IOT, Python, MATLAB, Data Sci...   \n",
       "6         6  Skills â¢ Python â¢ Tableau â¢ Data Visuali...   \n",
       "\n",
       "                                      cleaned_resume  \n",
       "0  Skills Programming Languages Python pandas num...  \n",
       "1  Education Details May 2013 to May 2017 B E UIT...  \n",
       "2  Areas of Interest Deep Learning Control System...  \n",
       "3  Skills R Python SAP HANA Tableau SAP HANA SQL ...  \n",
       "4  Education Details MCA YMCAUST Faridabad Haryan...  \n",
       "5  SKILLS C Basics IOT Python MATLAB Data Science...  \n",
       "6  Skills Python Tableau Data Visualization R Stu...  "
      ]
     },
     "execution_count": 329,
     "metadata": {},
     "output_type": "execute_result"
    }
   ],
   "source": [
    "resumeDataSet.head(7)"
   ]
  },
  {
   "cell_type": "code",
   "execution_count": 330,
   "id": "2e1e9a17",
   "metadata": {},
   "outputs": [
    {
     "data": {
      "text/plain": [
       "15    13\n",
       "7     11\n",
       "6     10\n",
       "0     10\n",
       "12    10\n",
       "9      7\n",
       "13     7\n",
       "8      7\n",
       "2      7\n",
       "23     7\n",
       "5      6\n",
       "4      6\n",
       "21     6\n",
       "14     6\n",
       "20     6\n",
       "1      6\n",
       "11     5\n",
       "22     5\n",
       "17     5\n",
       "16     5\n",
       "10     5\n",
       "3      5\n",
       "18     4\n",
       "24     4\n",
       "19     3\n",
       "Name: Category, dtype: int64"
      ]
     },
     "execution_count": 330,
     "metadata": {},
     "output_type": "execute_result"
    }
   ],
   "source": [
    "resumeDataSet.Category.value_counts()"
   ]
  },
  {
   "cell_type": "code",
   "execution_count": 331,
   "id": "ce6c8079",
   "metadata": {},
   "outputs": [
    {
     "data": {
      "text/plain": [
       "Java Developer               13\n",
       "Database                     11\n",
       "Data Science                 10\n",
       "Advocate                     10\n",
       "HR                           10\n",
       "DotNet Developer              7\n",
       "Hadoop                        7\n",
       "DevOps Engineer               7\n",
       "Automation Testing            7\n",
       "Testing                       7\n",
       "Civil Engineer                6\n",
       "Business Analyst              6\n",
       "SAP Developer                 6\n",
       "Health and fitness            6\n",
       "Python Developer              6\n",
       "Arts                          6\n",
       "Electrical Engineering        5\n",
       "Sales                         5\n",
       "Network Security Engineer     5\n",
       "Mechanical Engineer           5\n",
       "ETL Developer                 5\n",
       "Blockchain                    5\n",
       "Operations Manager            4\n",
       "Web Designing                 4\n",
       "PMO                           3\n",
       "Name: Category, dtype: int64"
      ]
     },
     "execution_count": 331,
     "metadata": {},
     "output_type": "execute_result"
    }
   ],
   "source": [
    "resumeDataSet_d.Category.value_counts() #understanding decode LabelEncoder"
   ]
  },
  {
   "cell_type": "code",
   "execution_count": 332,
   "id": "609b0fc3",
   "metadata": {},
   "outputs": [],
   "source": [
    "del resumeDataSet_d #clearing the space occupied "
   ]
  },
  {
   "cell_type": "code",
   "execution_count": 360,
   "id": "f25328a6",
   "metadata": {},
   "outputs": [
    {
     "name": "stdout",
     "output_type": "stream",
     "text": [
      "Featuring completed\n"
     ]
    }
   ],
   "source": [
    "from sklearn.model_selection import train_test_split\n",
    "from sklearn.feature_extraction.text import TfidfVectorizer\n",
    "from scipy.sparse import hstack\n",
    "\n",
    "requiredText = resumeDataSet['cleaned_resume'].values\n",
    "requiredTarget = resumeDataSet['Category'].values\n",
    "\n",
    "word_vectorizer = TfidfVectorizer(\n",
    "    sublinear_tf=True,\n",
    "    stop_words='english')\n",
    "word_vectorizer.fit(requiredText)\n",
    "WordFeatures = word_vectorizer.transform(requiredText)\n",
    "\n",
    "print (\"Featuring completed\")\n",
    "\n",
    "X_train,X_test,y_train,y_test = train_test_split(WordFeatures,requiredTarget,random_state=42, test_size=0.2,\n",
    "                                                 shuffle=True, stratify=requiredTarget)"
   ]
  },
  {
   "cell_type": "code",
   "execution_count": 334,
   "id": "9cbab385",
   "metadata": {},
   "outputs": [
    {
     "name": "stdout",
     "output_type": "stream",
     "text": [
      "Accuracy of KNeighbors Classifier on training set: 0.89\n",
      "Accuracy of KNeighbors Classifier on test set:     0.82\n"
     ]
    }
   ],
   "source": [
    "clf = OneVsRestClassifier(KNeighborsClassifier())\n",
    "clf.fit(X_train, y_train)\n",
    "prediction = clf.predict(X_test)\n",
    "print('Accuracy of KNeighbors Classifier on training set: {:.2f}'.format(clf.score(X_train, y_train)))\n",
    "print('Accuracy of KNeighbors Classifier on test set:     {:.2f}'.format(clf.score(X_test, y_test)))"
   ]
  },
  {
   "cell_type": "code",
   "execution_count": 336,
   "id": "2781d239",
   "metadata": {},
   "outputs": [],
   "source": [
    "import PyPDF2"
   ]
  },
  {
   "cell_type": "code",
   "execution_count": 337,
   "id": "bb43037d",
   "metadata": {},
   "outputs": [],
   "source": [
    "pdf = open('Radhika Singh_Java.pdf','rb')"
   ]
  },
  {
   "cell_type": "code",
   "execution_count": 338,
   "id": "a0b2ee37",
   "metadata": {},
   "outputs": [],
   "source": [
    "pdfReader = PyPDF2.PdfFileReader(pdf)"
   ]
  },
  {
   "cell_type": "code",
   "execution_count": 339,
   "id": "5947f9e0",
   "metadata": {},
   "outputs": [
    {
     "name": "stdout",
     "output_type": "stream",
     "text": [
      "3\n"
     ]
    }
   ],
   "source": [
    "print(pdfReader.numPages)"
   ]
  },
  {
   "cell_type": "code",
   "execution_count": 340,
   "id": "7480d830",
   "metadata": {},
   "outputs": [],
   "source": [
    "page = pdfReader.getPage(0)"
   ]
  },
  {
   "cell_type": "code",
   "execution_count": 341,
   "id": "22adc2c5",
   "metadata": {},
   "outputs": [],
   "source": [
    "text = page.extractText()"
   ]
  },
  {
   "cell_type": "code",
   "execution_count": 342,
   "id": "d7c62a7b",
   "metadata": {},
   "outputs": [
    {
     "data": {
      "text/plain": [
       "' \\nRadhika Singh\\n \\n \\nBlk 241\\n,\\nKim Keat Link\\n \\n \\n#08\\n-\\n191\\n \\nSingapore 310241\\n \\nradhikasingh.sg@gmail.com\\n \\n                                                                                        \\nNationality: Singaporean\\n \\n+65\\n-\\n91 999 098\\n \\n \\nI \\nam\\n \\none who can work very well both, as an individual \\nand\\n \\nin a team. Hard work and enthusiasm are the two pillars that \\ndefine the work that I do. With that, I have been able to work in situations even when minimal direction has been offere\\nd. \\nCreating solutions to meet changing busines\\ns demands is something I have been doing and \\nam \\nvery comfortable with. I \\nenjoy working with figures and h\\nave a high attention to detail.\\n \\nI \\nhave experience with both US GAA\\nP and IFRS reporting \\nstandards.\\n \\nBeing\\n \\np\\nrof\\nicient in Microsoft Dynamics \\n(\\nGreat Plains & Solomon) and SQL naturally makes me a fit for a Finance \\nposition.\\n \\n \\n \\nProfessional Experience\\n \\n \\nThe Unity Group of Companies Pte Ltd \\n-\\n \\nAssociate                                                                  \\n             \\n    \\nSeptember \\n2016\\n \\n\\n \\ntill date\\n \\n \\nAn Associate\\n \\nJava developer\\n \\nin the \\noracle\\n \\nteam\\n \\nthat focus\\nes\\n \\no\\nn\\n \\nthe Marketing Vertical of\\n \\nVenture Capital.\\n \\nI am the lead with \\n3 colleagues in my team.\\n \\nThe \\nTeam \\nmanages\\n \\nthe entire d\\nevelopmental\\n \\nprocess for the potential companies seeking to join \\nThe Marketing Group Plc\\n \\n(Ticker:TMG)\\n, a global marketing and advertising agglomeration\\n \\nlisted on Nasdaq First North\\n \\ncomprising of 23 subsidiaries across 46 offices in 10 countries.\\n \\n \\nSkills\\n \\n\\n\\nrequirements gathering and des\\n\\n\\nConsistently met deadlines and requirements for all production work ord\\n\\nto identify and alleviate the number of bugs in the software and provided maintenance and development of bug fixes and \\npatch sets for existing applications. Education Details \\n \\n \\nBachelor of Engineering  (\\nComputer)   Savitribai Phule Pune University\\n \\nJava Developer \\n \\n \\nJava Developer \\n-\\n \\nAurus Tech Pvt. Ltd\\n \\nSkill Details \\n \\nJAVA\\n-\\n \\nExprience \\n-\\n \\n32 months\\n \\nLINUX\\n-\\n \\nExprience \\n-\\n \\n6 months\\n \\nAdavance Java\\n-\\n \\nExprience \\n-\\n \\nLess than 1 year months\\n \\nDerby\\n-\\n \\nExprience \\n-\\n \\nLess than 1 year\\n \\nmonths\\n \\nOracle\\n-\\n \\nExprience \\n-\\n \\nLess than 1 year monthsCompany Details \\n \\ncompany \\n-\\n \\nAurus Tech Pvt. Ltd\\n \\ndescription \\n-\\n \\nHaving 2 years of experience in working with a Payment Gateway Solutions provider with Core Java. \\nHardworking Java Developer enthusiastic about \\nworking with multicultural teams.\\n \\ncompany \\n-\\n \\nAurus Tech Pvt Ltd.\\n \\ndescription \\n-\\n \\n\\n \\n\\n \\n\\nrtners to finalize designs and confirm requirements.\\n \\n\\n \\n\\n \\nCollaborated with other developers to identify and alleviate the number of bugs in the software and provided \\ncontinued maintenance and development of bug fixes and patch sets for existing applications.\\n \\nReview \\nKey Achievements\\n-\\n \\n \\n\\n \\nConsolidated the Income Tax returns (IR8As) of 18 employees to IRAS\\n \\nin very limited time (5 days)\\n.\\n \\n \\n\\n \\nEnsured the GL ending balances were \\n\\n-\\nmigration and post migration. Worked on\\n \\nmapping of GL \\naccounts for migration of data over to Pronto.\\n \\n\\n \\nSuccessfully coordinated migration of data from Peachtree to Pronto \\n\\n \\n\\n \\non 1st of April 2016\\n. \\n \\n'"
      ]
     },
     "execution_count": 342,
     "metadata": {},
     "output_type": "execute_result"
    }
   ],
   "source": [
    "text"
   ]
  },
  {
   "cell_type": "code",
   "execution_count": 343,
   "id": "affe0f88",
   "metadata": {},
   "outputs": [],
   "source": [
    "text = re.sub('http\\S+\\s*', ' ', text)  # remove URLs\n",
    "text = re.sub('RT|cc', ' ', text)  # remove RT and cc\n",
    "text = re.sub('#\\S+', '', text)  # remove hashtags\n",
    "text = re.sub('@\\S+', '  ', text)  # remove mentions\n",
    "text = re.sub('[%s]' % re.escape(\"\"\"!\"#$%&'()*+,-./:;<=>?@[\\]^_`{|}~\"\"\"), ' ', text)  # remove punctuations\n",
    "text = re.sub(r'[^\\x00-\\x7f]',r' ', text) \n",
    "text = re.sub('\\s+', ' ', text)  # remove extra whitespace"
   ]
  },
  {
   "cell_type": "code",
   "execution_count": 344,
   "id": "11966846",
   "metadata": {},
   "outputs": [
    {
     "name": "stdout",
     "output_type": "stream",
     "text": [
      " Radhika Singh Blk 241 Kim Keat Link 191 Singapore 310241 radhikasingh sg Nationality Singaporean 65 91 999 098 I am one who can work very well both as an individual and in a team Hard work and enthusiasm are the two pillars that define the work that I do With that I have been able to work in situations even when minimal direction has been offere d Creating solutions to meet changing busines s demands is something I have been doing and am very comfortable with I enjoy working with figures and h ave a high attention to detail I have experience with both US GAA P and IFRS reporting standards Being p rof icient in Microsoft Dynamics Great Plains Solomon and SQL naturally makes me a fit for a Finance position Professional Experience The Unity Group of Companies Pte Ltd Associate September 2016 till date An Associate Java developer in the oracle team that focus es o n the Marketing Vertical of Venture Capital I am the lead with 3 colleagues in my team The Team manages the entire d evelopmental process for the potential companies seeking to join The Marketing Group Plc Ticker TMG a global marketing and advertising agglomeration listed on Nasdaq First North comprising of 23 subsidiaries across 46 offices in 10 countries Skills requirements gathering and des Consistently met deadlines and requirements for all production work ord to identify and alleviate the number of bugs in the software and provided maintenance and development of bug fixes and patch sets for existing applications Education Details Bachelor of Engineering Computer Savitribai Phule Pune University Java Developer Java Developer Aurus Tech Pvt Ltd Skill Details JAVA Exprience 32 months LINUX Exprience 6 months Adavance Java Exprience Less than 1 year months Derby Exprience Less than 1 year months Oracle Exprience Less than 1 year monthsCompany Details company Aurus Tech Pvt Ltd description Having 2 years of experience in working with a Payment Gateway Solutions provider with Core Java Hardworking Java Developer enthusiastic about working with multicultural teams company Aurus Tech Pvt Ltd description rtners to finalize designs and confirm requirements Collaborated with other developers to identify and alleviate the number of bugs in the software and provided continued maintenance and development of bug fixes and patch sets for existing applications Review Key Achievements Consolidated the Income Tax returns IR8As of 18 employees to IRAS in very limited time 5 days Ensured the GL ending balances were migration and post migration Worked on mapping of GL a ounts for migration of data over to Pronto Su essfully coordinated migration of data from Peachtree to Pronto on 1st of April 2016 \n"
     ]
    }
   ],
   "source": [
    "print(text)"
   ]
  },
  {
   "cell_type": "code",
   "execution_count": 345,
   "id": "9c275f65",
   "metadata": {},
   "outputs": [],
   "source": [
    "import re"
   ]
  },
  {
   "cell_type": "code",
   "execution_count": 346,
   "id": "d8923ca4",
   "metadata": {},
   "outputs": [
    {
     "name": "stdout",
     "output_type": "stream",
     "text": [
      "requirements gathering and des Consistently met deadlines and requirements for all production work ord to identify and alleviate the number of bugs in the software and provided maintenance and development of bug fixes and patch sets for existing applications Education Details Bachelor of Engineering Computer Savitribai Phule Pune University Java Developer Java Developer Aurus Tech Pvt Ltd Skill Details JAVA Exprience 32 months LINUX Exprience 6 months Adavance Java Exprience Less than 1 year months Derby Exprience Less than 1 year months Oracle Exprience Less than 1 year monthsCompany Details company Aurus Tech Pvt Ltd description Having 2 years of experience in working with a Payment Gateway Solutions provider with Core Java Hardworking Java Developer enthusiastic about working with multicultural teams company Aurus Tech Pvt Ltd description rtners to finalize designs and confirm requirements Collaborated with other developers to identify and alleviate the number of bugs in the software and provided continued maintenance and development of bug fixes and patch sets for existing applications\n"
     ]
    }
   ],
   "source": [
    "match = re.search(\"skills (.+?) review\", text,flags=re.IGNORECASE) \n",
    " \n",
    "try: \n",
    "    result = match.group(1) \n",
    "except: \n",
    "    result = \"no match found\" \n",
    " \n",
    "print(result)"
   ]
  },
  {
   "cell_type": "code",
   "execution_count": 347,
   "id": "f905e963",
   "metadata": {},
   "outputs": [
    {
     "data": {
      "text/html": [
       "<div>\n",
       "<style scoped>\n",
       "    .dataframe tbody tr th:only-of-type {\n",
       "        vertical-align: middle;\n",
       "    }\n",
       "\n",
       "    .dataframe tbody tr th {\n",
       "        vertical-align: top;\n",
       "    }\n",
       "\n",
       "    .dataframe thead th {\n",
       "        text-align: right;\n",
       "    }\n",
       "</style>\n",
       "<table border=\"1\" class=\"dataframe\">\n",
       "  <thead>\n",
       "    <tr style=\"text-align: right;\">\n",
       "      <th></th>\n",
       "      <th>Category</th>\n",
       "      <th>Resume</th>\n",
       "      <th>cleaned_resume</th>\n",
       "    </tr>\n",
       "  </thead>\n",
       "  <tbody>\n",
       "    <tr>\n",
       "      <th>0</th>\n",
       "      <td>6</td>\n",
       "      <td>Skills * Programming Languages: Python (pandas...</td>\n",
       "      <td>Skills Programming Languages Python pandas num...</td>\n",
       "    </tr>\n",
       "    <tr>\n",
       "      <th>1</th>\n",
       "      <td>6</td>\n",
       "      <td>Education Details \\r\\nMay 2013 to May 2017 B.E...</td>\n",
       "      <td>Education Details May 2013 to May 2017 B E UIT...</td>\n",
       "    </tr>\n",
       "    <tr>\n",
       "      <th>2</th>\n",
       "      <td>6</td>\n",
       "      <td>Areas of Interest Deep Learning, Control Syste...</td>\n",
       "      <td>Areas of Interest Deep Learning Control System...</td>\n",
       "    </tr>\n",
       "    <tr>\n",
       "      <th>3</th>\n",
       "      <td>6</td>\n",
       "      <td>Skills â¢ R â¢ Python â¢ SAP HANA â¢ Table...</td>\n",
       "      <td>Skills R Python SAP HANA Tableau SAP HANA SQL ...</td>\n",
       "    </tr>\n",
       "    <tr>\n",
       "      <th>4</th>\n",
       "      <td>6</td>\n",
       "      <td>Education Details \\r\\n MCA   YMCAUST,  Faridab...</td>\n",
       "      <td>Education Details MCA YMCAUST Faridabad Haryan...</td>\n",
       "    </tr>\n",
       "  </tbody>\n",
       "</table>\n",
       "</div>"
      ],
      "text/plain": [
       "   Category                                             Resume  \\\n",
       "0         6  Skills * Programming Languages: Python (pandas...   \n",
       "1         6  Education Details \\r\\nMay 2013 to May 2017 B.E...   \n",
       "2         6  Areas of Interest Deep Learning, Control Syste...   \n",
       "3         6  Skills â¢ R â¢ Python â¢ SAP HANA â¢ Table...   \n",
       "4         6  Education Details \\r\\n MCA   YMCAUST,  Faridab...   \n",
       "\n",
       "                                      cleaned_resume  \n",
       "0  Skills Programming Languages Python pandas num...  \n",
       "1  Education Details May 2013 to May 2017 B E UIT...  \n",
       "2  Areas of Interest Deep Learning Control System...  \n",
       "3  Skills R Python SAP HANA Tableau SAP HANA SQL ...  \n",
       "4  Education Details MCA YMCAUST Faridabad Haryan...  "
      ]
     },
     "execution_count": 347,
     "metadata": {},
     "output_type": "execute_result"
    }
   ],
   "source": [
    "resumeDataSet.head()"
   ]
  },
  {
   "cell_type": "code",
   "execution_count": 348,
   "id": "2e17880a",
   "metadata": {},
   "outputs": [],
   "source": [
    "new_entry = {'Category': 6,'Resume':result, 'cleaned_resume': result}"
   ]
  },
  {
   "cell_type": "code",
   "execution_count": 349,
   "id": "98e190fb",
   "metadata": {},
   "outputs": [],
   "source": [
    "resumeDataSet = resumeDataSet.append(new_entry, ignore_index=True)"
   ]
  },
  {
   "cell_type": "code",
   "execution_count": 351,
   "id": "118b4787",
   "metadata": {},
   "outputs": [
    {
     "data": {
      "text/plain": [
       "15    13\n",
       "6     11\n",
       "7     11\n",
       "0     10\n",
       "12    10\n",
       "9      7\n",
       "13     7\n",
       "8      7\n",
       "2      7\n",
       "23     7\n",
       "5      6\n",
       "4      6\n",
       "21     6\n",
       "14     6\n",
       "20     6\n",
       "1      6\n",
       "11     5\n",
       "22     5\n",
       "17     5\n",
       "16     5\n",
       "10     5\n",
       "3      5\n",
       "18     4\n",
       "24     4\n",
       "19     3\n",
       "Name: Category, dtype: int64"
      ]
     },
     "execution_count": 351,
     "metadata": {},
     "output_type": "execute_result"
    }
   ],
   "source": [
    "resumeDataSet.Category.value_counts()"
   ]
  },
  {
   "cell_type": "code",
   "execution_count": 352,
   "id": "5fff46db",
   "metadata": {},
   "outputs": [
    {
     "data": {
      "text/plain": [
       "167"
      ]
     },
     "execution_count": 352,
     "metadata": {},
     "output_type": "execute_result"
    }
   ],
   "source": [
    "len(resumeDataSet['cleaned_resume'])"
   ]
  },
  {
   "cell_type": "code",
   "execution_count": 355,
   "id": "f3ba3b6b",
   "metadata": {},
   "outputs": [
    {
     "name": "stdout",
     "output_type": "stream",
     "text": [
      "Featuring completed\n"
     ]
    }
   ],
   "source": [
    "from sklearn.model_selection import train_test_split\n",
    "from sklearn.feature_extraction.text import TfidfVectorizer\n",
    "from scipy.sparse import hstack\n",
    "\n",
    "requiredText = resumeDataSet['cleaned_resume'].values\n",
    "requiredTarget = resumeDataSet['Category'].values\n",
    "\n",
    "word_vectorizer = TfidfVectorizer(\n",
    "    sublinear_tf=True,\n",
    "    stop_words='english')\n",
    "word_vectorizer.fit(requiredText)\n",
    "WordFeatures = word_vectorizer.transform(requiredText)\n",
    "\n",
    "print (\"Featuring completed\")\n",
    "\n",
    "X_train1,X_test1,y_train1,y_test1 = train_test_split(WordFeatures,requiredTarget,random_state=42, test_size=0.0059,\n",
    "                                                 shuffle=False)"
   ]
  },
  {
   "cell_type": "code",
   "execution_count": 356,
   "id": "73dd0f29",
   "metadata": {},
   "outputs": [],
   "source": [
    "clf = OneVsRestClassifier(KNeighborsClassifier())\n",
    "clf.fit(X_train1, y_train1)\n",
    "prediction = clf.predict(X_test1)"
   ]
  },
  {
   "cell_type": "code",
   "execution_count": 357,
   "id": "3c6dad81",
   "metadata": {},
   "outputs": [
    {
     "name": "stdout",
     "output_type": "stream",
     "text": [
      "[15]\n"
     ]
    }
   ],
   "source": [
    "print(prediction)"
   ]
  },
  {
   "cell_type": "code",
   "execution_count": 358,
   "id": "cd2960ee",
   "metadata": {},
   "outputs": [],
   "source": [
    "if prediction == 15:\n",
    "    ans = 'Java Developer'\n",
    "elif prediction == 7:\n",
    "    ans = 'Database Engineer'\n",
    "elif prediction == 6:\n",
    "    ans = 'Data Science Professional'\n",
    "elif prediction == 0:\n",
    "    ans = 'Advocate'\n",
    "elif prediction == 12:\n",
    "    ans = 'HR'\n",
    "elif prediction == 9:\n",
    "    ans = 'DotNet Developer'\n",
    "elif prediction == 13:\n",
    "    ans = 'Hadoop Developer'\n",
    "elif prediction == 8:\n",
    "    ans = 'DevOps Engineer'\n",
    "elif prediction == 2:\n",
    "    ans = 'Automation Testingr'\n",
    "elif prediction == 23:\n",
    "    ans = 'Testing'\n",
    "elif prediction == 5:\n",
    "    ans = 'Civil Engineer'\n",
    "elif prediction == 4:\n",
    "    ans = 'Business Analyst'\n",
    "elif prediction == 21:\n",
    "    ans = 'SAP Developer'\n",
    "elif prediction == 14:\n",
    "    ans = 'Health and fitness'\n",
    "elif prediction == 20:\n",
    "    ans = 'Python Developer '\n",
    "elif prediction == 1:\n",
    "    ans = 'Arts'\n",
    "elif prediction == 11:\n",
    "    ans = 'Electrical Engineering'\n",
    "elif prediction == 22:\n",
    "    ans = 'Sales'\n",
    "elif prediction == 17:\n",
    "    ans = 'Network Security Engineer'\n",
    "elif prediction == 16:\n",
    "    ans = 'Mechanical Engineer'\n",
    "elif prediction == 10:\n",
    "    ans = 'ETL Developer'\n",
    "elif prediction == 3:\n",
    "    ans = 'Blockchain Developer'\n",
    "elif prediction == 18:\n",
    "    ans = 'Operations Manager'\n",
    "elif prediction == 24:\n",
    "    ans = 'Web Designing'\n",
    "elif prediction == 19:\n",
    "    ans = 'PMO '\n",
    "else:\n",
    "    ans = 'No Suitable'"
   ]
  },
  {
   "cell_type": "code",
   "execution_count": 359,
   "id": "5144b4ae",
   "metadata": {},
   "outputs": [
    {
     "name": "stdout",
     "output_type": "stream",
     "text": [
      "The uploaded resume is suitable for Java Developer role\n"
     ]
    }
   ],
   "source": [
    "print(\"The uploaded resume is suitable for \" + ans + \" role\")"
   ]
  }
 ],
 "metadata": {
  "kernelspec": {
   "display_name": "Python 3 (ipykernel)",
   "language": "python",
   "name": "python3"
  },
  "language_info": {
   "codemirror_mode": {
    "name": "ipython",
    "version": 3
   },
   "file_extension": ".py",
   "mimetype": "text/x-python",
   "name": "python",
   "nbconvert_exporter": "python",
   "pygments_lexer": "ipython3",
   "version": "3.9.6"
  }
 },
 "nbformat": 4,
 "nbformat_minor": 5
}
